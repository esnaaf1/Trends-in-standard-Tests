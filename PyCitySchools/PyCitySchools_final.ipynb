{
 "cells": [
  {
   "cell_type": "markdown",
   "metadata": {},
   "source": [
    "### Note\n",
    "* Instructions have been included for each segment. You do not have to follow them exactly, but they are included to help you think through the steps."
   ]
  },
  {
   "cell_type": "code",
   "execution_count": null,
   "metadata": {},
   "outputs": [],
   "source": [
    "# Dependencies and Setup\n",
    "import pandas as pd\n",
    "import numpy as np\n",
    "\n",
    "# File to Load (Remember to Change These)\n",
    "school_data_to_load = \"Resources/schools_complete.csv\"\n",
    "student_data_to_load = \"Resources/students_complete.csv\"\n",
    "\n",
    "# Read School and Student Data File and store into Pandas Data Frames\n",
    "school_data = pd.read_csv(school_data_to_load)\n",
    "student_data = pd.read_csv(student_data_to_load)\n",
    "#school_data.head()\n",
    "#student_data.head()\n",
    "\n",
    "# Combine the data into a single dataset\n",
    "school_data_complete = pd.merge(student_data, school_data, how=\"left\", on=[\"school_name\", \"school_name\"])\n",
    "school_data_complete\n"
   ]
  },
  {
   "cell_type": "markdown",
   "metadata": {},
   "source": [
    "## District Summary\n",
    "\n",
    "* Calculate the total number of schools\n",
    "\n",
    "* Calculate the total number of students\n",
    "\n",
    "* Calculate the total budget\n",
    "\n",
    "* Calculate the average math score \n",
    "\n",
    "* Calculate the average reading score\n",
    "\n",
    "* Calculate the overall passing rate (overall average score), i.e. (avg. math score + avg. reading score)/2\n",
    "\n",
    "* Calculate the percentage of students with a passing math score (70 or greater)\n",
    "\n",
    "* Calculate the percentage of students with a passing reading score (70 or greater)\n",
    "\n",
    "* Create a dataframe to hold the above results\n",
    "\n",
    "* Optional: give the displayed data cleaner formatting"
   ]
  },
  {
   "cell_type": "code",
   "execution_count": null,
   "metadata": {},
   "outputs": [],
   "source": [
    "#Calculate total student\n",
    "total_schools=school_data[\"school_name\"].count()\n",
    "\n",
    "#Calculate total schools\n",
    "total_students= school_data[\"size\"].sum()\n",
    "\n",
    "#calculate total budget\n",
    "total_budget = school_data[\"budget\"].sum()\n",
    "\n",
    "#calculate average math score\n",
    "average_math_score =student_data[\"math_score\"].mean()\n",
    "\n",
    "#calculate average reading score\n",
    "average_reading_score=student_data[\"reading_score\"].mean()\n",
    "\n",
    "#calculate percent passing math\n",
    "students_passing_math = student_data.loc[school_data_complete[\"math_score\"] >= 70]\n",
    "pct_passing_math = students_passing_math[\"student_name\"].count()/total_students\n",
    "\n",
    "#calculate perent passing reading\n",
    "students_passing_reading = student_data.loc[school_data_complete[\"reading_score\"] >= 70]\n",
    "pct_passing_reading = students_passing_reading[\"student_name\"].count()/total_students\n",
    "\n",
    "# Store the results in data frame district_summary_df \n",
    "district_summary_df=pd.DataFrame({\"Total Schools\":[total_schools],\n",
    "                                  \"Total Students\": [total_students],\n",
    "                                  \"Total Budget\": [total_budget], \n",
    "                                  \"Average Math Score\": [average_math_score], \n",
    "                                  \"Average Reading Score\": [average_reading_score],\n",
    "                                  \"% Passing Math\": [100*pct_passing_math],\n",
    "                                  \"% Passing Reading\": [100*pct_passing_reading],\n",
    "                                  \"Overall Passing Rate\": [(average_math_score+average_reading_score)/2]})\n",
    "district_summary_df.head()"
   ]
  },
  {
   "cell_type": "markdown",
   "metadata": {},
   "source": [
    "## School Summary"
   ]
  },
  {
   "cell_type": "markdown",
   "metadata": {},
   "source": [
    "* Create an overview table that summarizes key metrics about each school, including:\n",
    "  * School Name\n",
    "  * School Type\n",
    "  * Total Students\n",
    "  * Total School Budget\n",
    "  * Per Student Budget\n",
    "  * Average Math Score\n",
    "  * Average Reading Score\n",
    "  * % Passing Math\n",
    "  * % Passing Reading\n",
    "  * Overall Passing Rate (Average of the above two)\n",
    "  \n",
    "* Create a dataframe to hold the above results"
   ]
  },
  {
   "cell_type": "code",
   "execution_count": null,
   "metadata": {},
   "outputs": [],
   "source": [
    "school_df_1 = school_data_complete.groupby('school_name').agg(\n",
    "            total_students=pd.NamedAgg(column='student_name', aggfunc = 'count'),\n",
    "            avg_math_score = pd.NamedAgg(column='math_score', aggfunc = 'mean'),\n",
    "            avg_reading_score = pd.NamedAgg(column ='reading_score', aggfunc='mean'))\n",
    "#school_df_1\n",
    "\n",
    "passing_math_df= school_data_complete.loc[school_data_complete['math_score'] >=70]\n",
    "passing_reading_df= school_data_complete.loc[school_data_complete['reading_score'] >=70]\n",
    "\n",
    "school_df_2 = passing_math_df.groupby('school_name').agg(\n",
    "             total_passing_math = pd.NamedAgg(column='student_name', aggfunc= 'count'))\n",
    "#school_df_2\n",
    "\n",
    "school_df_3 = passing_reading_df.groupby('school_name').agg(\n",
    "             total_passing_reading = pd.NamedAgg(column = 'student_name', aggfunc = 'count'))\n",
    "#school_df_3\n",
    "school_df_4 = school_data[['school_name','type','budget', 'size']]\n",
    "\n",
    "# school_df_4\n",
    "\n",
    "summary_df_1 = pd.merge(school_df_1,  school_df_2, on='school_name')\n",
    "summary_df_2 = pd.merge(summary_df_1, school_df_3, on='school_name')\n",
    "summary_df_3 = pd.merge(summary_df_2, school_df_4, on='school_name')\n",
    "\n",
    "summary_df_3[\"pct_passing_math\"]= summary_df_3[\"total_passing_math\"]/summary_df_3[\"total_students\"]\n",
    "summary_df_3['pct_passing_reading'] = summary_df_3[\"total_passing_reading\"]/summary_df_3[\"total_students\"]\n",
    "summary_df_3['overall_passing_rate'] = (summary_df_3['pct_passing_math']+ \\\n",
    "                                           summary_df_3['pct_passing_reading'])/2\n",
    "summary_df_3['per_student_budget'] = summary_df_3['budget']/summary_df_3['size']\n",
    "#Reorganize using the double brackets\n",
    "\n",
    "summary_df_3 = summary_df_3[['school_name','type', 'total_students',\n",
    "                            'budget', 'per_student_budget',\n",
    "                              'avg_math_score', 'avg_reading_score',\n",
    "                            'pct_passing_math', 'pct_passing_reading',\n",
    "                             'overall_passing_rate']]\n",
    "summary_df_3\n"
   ]
  },
  {
   "cell_type": "markdown",
   "metadata": {},
   "source": [
    "## Top Performing Schools (By Passing Rate)"
   ]
  },
  {
   "cell_type": "markdown",
   "metadata": {},
   "source": [
    "* Sort and display the top five schools in overall passing rate"
   ]
  },
  {
   "cell_type": "code",
   "execution_count": null,
   "metadata": {},
   "outputs": [],
   "source": [
    "summary_df_topfive = summary_df_3.sort_values(\"overall_passing_rate\", ascending=False)\n",
    "summary_df_topfive.head()\n"
   ]
  },
  {
   "cell_type": "markdown",
   "metadata": {},
   "source": [
    "]## Bottom Performing Schools (By Passing Rate)"
   ]
  },
  {
   "cell_type": "markdown",
   "metadata": {},
   "source": [
    "* Sort and display the five worst-performing schools"
   ]
  },
  {
   "cell_type": "code",
   "execution_count": null,
   "metadata": {},
   "outputs": [],
   "source": [
    "summary_df_worstfive = summary_df_3.sort_values(\"overall_passing_rate\")\n",
    "summary_df_worstfive.head()"
   ]
  },
  {
   "cell_type": "markdown",
   "metadata": {
    "collapsed": true
   },
   "source": [
    "## Math Scores by Grade"
   ]
  },
  {
   "cell_type": "markdown",
   "metadata": {},
   "source": [
    "* Create a table that lists the average Reading Score for students of each grade level (9th, 10th, 11th, 12th) at each school.\n",
    "\n",
    "  * Create a pandas series for each grade. Hint: use a conditional statement.\n",
    "  \n",
    "  * Group each series by school\n",
    "  \n",
    "  * Combine the series into a dataframe\n",
    "  \n",
    "  * Optional: give the displayed data cleaner formatting"
   ]
  },
  {
   "cell_type": "code",
   "execution_count": null,
   "metadata": {},
   "outputs": [],
   "source": []
  },
  {
   "cell_type": "markdown",
   "metadata": {},
   "source": [
    "## Reading Score by Grade "
   ]
  },
  {
   "cell_type": "markdown",
   "metadata": {},
   "source": [
    "* Perform the same operations as above for reading scores"
   ]
  },
  {
   "cell_type": "code",
   "execution_count": null,
   "metadata": {},
   "outputs": [],
   "source": []
  },
  {
   "cell_type": "markdown",
   "metadata": {},
   "source": [
    "## Scores by School Spending"
   ]
  },
  {
   "cell_type": "markdown",
   "metadata": {},
   "source": [
    "* Create a table that breaks down school performances based on average Spending Ranges (Per Student). Use 4 reasonable bins to group school spending. Include in the table each of the following:\n",
    "  * Average Math Score\n",
    "  * Average Reading Score\n",
    "  * % Passing Math\n",
    "  * % Passing Reading\n",
    "  * Overall Passing Rate (Average of the above two)"
   ]
  },
  {
   "cell_type": "code",
   "execution_count": null,
   "metadata": {},
   "outputs": [],
   "source": [
    "# Sample bins. Feel free to create your own bins.\n",
    "spending_bins = [0, 585, 615, 645, 675]\n",
    "group_names = [\"<$585\", \"$585-615\", \"$615-645\", \"$645-675\"]"
   ]
  },
  {
   "cell_type": "code",
   "execution_count": null,
   "metadata": {},
   "outputs": [],
   "source": []
  },
  {
   "cell_type": "markdown",
   "metadata": {},
   "source": [
    "## Scores by School Size"
   ]
  },
  {
   "cell_type": "markdown",
   "metadata": {},
   "source": [
    "* Perform the same operations as above, based on school size."
   ]
  },
  {
   "cell_type": "code",
   "execution_count": null,
   "metadata": {},
   "outputs": [],
   "source": [
    "# Sample bins. Feel free to create your own bins.\n",
    "size_bins = [0, 1000, 2000, 5000]\n",
    "group_names = [\"Small (<1000)\", \"Medium (1000-2000)\", \"Large (2000-5000)\"]"
   ]
  },
  {
   "cell_type": "code",
   "execution_count": null,
   "metadata": {
    "scrolled": true
   },
   "outputs": [],
   "source": []
  },
  {
   "cell_type": "markdown",
   "metadata": {},
   "source": [
    "## Scores by School Type"
   ]
  },
  {
   "cell_type": "markdown",
   "metadata": {},
   "source": [
    "* Perform the same operations as above, based on school type."
   ]
  },
  {
   "cell_type": "code",
   "execution_count": null,
   "metadata": {},
   "outputs": [],
   "source": []
  },
  {
   "cell_type": "code",
   "execution_count": null,
   "metadata": {},
   "outputs": [],
   "source": []
  }
 ],
 "metadata": {
  "anaconda-cloud": {},
  "kernel_info": {
   "name": "python3"
  },
  "kernelspec": {
   "display_name": "Python 3",
   "language": "python",
   "name": "python3"
  },
  "language_info": {
   "codemirror_mode": {
    "name": "ipython",
    "version": 3
   },
   "file_extension": ".py",
   "mimetype": "text/x-python",
   "name": "python",
   "nbconvert_exporter": "python",
   "pygments_lexer": "ipython3",
   "version": "3.6.9"
  },
  "latex_envs": {
   "LaTeX_envs_menu_present": true,
   "autoclose": false,
   "autocomplete": true,
   "bibliofile": "biblio.bib",
   "cite_by": "apalike",
   "current_citInitial": 1,
   "eqLabelWithNumbers": true,
   "eqNumInitial": 1,
   "hotkeys": {
    "equation": "Ctrl-E",
    "itemize": "Ctrl-I"
   },
   "labels_anchors": false,
   "latex_user_defs": false,
   "report_style_numbering": false,
   "user_envs_cfg": false
  },
  "nteract": {
   "version": "0.8.4"
  }
 },
 "nbformat": 4,
 "nbformat_minor": 1
}
